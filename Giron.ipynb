{
  "nbformat": 4,
  "nbformat_minor": 0,
  "metadata": {
    "colab": {
      "name": "Giron.ipynb",
      "provenance": []
    },
    "kernelspec": {
      "name": "python3",
      "display_name": "Python 3"
    },
    "language_info": {
      "name": "python"
    }
  },
  "cells": [
    {
      "cell_type": "markdown",
      "metadata": {
        "id": "K2JkqPJ6OR3F"
      },
      "source": [
        "# Introduction To Numerical Method\n",
        "\n",
        "## Demo"
      ]
    },
    {
      "cell_type": "code",
      "metadata": {
        "id": "lRZk_xn2OaMm",
        "colab": {
          "base_uri": "https://localhost:8080/"
        },
        "outputId": "934116f7-33c3-4e5b-b820-dfdc6d1e585e"
      },
      "source": [
        "b = \"sally\"\n",
        "b = float(4)\n",
        "print(b)"
      ],
      "execution_count": 2,
      "outputs": [
        {
          "output_type": "stream",
          "text": [
            "4.0\n"
          ],
          "name": "stdout"
        }
      ]
    },
    {
      "cell_type": "code",
      "metadata": {
        "colab": {
          "base_uri": "https://localhost:8080/"
        },
        "id": "PqQPbkflPg8_",
        "outputId": "a3bbb63a-b7c9-4a8d-bf4d-6df0baa9ca61"
      },
      "source": [
        "x = 5\n",
        "y = \"John\"\n",
        "print(type(x))\n",
        "print(type(y))"
      ],
      "execution_count": 14,
      "outputs": [
        {
          "output_type": "stream",
          "text": [
            "<class 'int'>\n",
            "<class 'str'>\n"
          ],
          "name": "stdout"
        }
      ]
    },
    {
      "cell_type": "code",
      "metadata": {
        "colab": {
          "base_uri": "https://localhost:8080/"
        },
        "id": "DY215X_aRvO6",
        "outputId": "a1fee000-894a-4187-df27-c33ac5231bbc"
      },
      "source": [
        "x = \"enjoying\"\n",
        "print(\"Python programming is \" + x)"
      ],
      "execution_count": 6,
      "outputs": [
        {
          "output_type": "stream",
          "text": [
            "Python programming is enjoying\n"
          ],
          "name": "stdout"
        }
      ]
    },
    {
      "cell_type": "code",
      "metadata": {
        "colab": {
          "base_uri": "https://localhost:8080/"
        },
        "id": "iE5sLK2NSfpa",
        "outputId": "b9927602-23fc-44be-fe86-4e61ed5615f4"
      },
      "source": [
        "x = 5 \n",
        "y = 3\n",
        "compare = x > y\n",
        "compare"
      ],
      "execution_count": 15,
      "outputs": [
        {
          "output_type": "execute_result",
          "data": {
            "text/plain": [
              "True"
            ]
          },
          "metadata": {},
          "execution_count": 15
        }
      ]
    },
    {
      "cell_type": "code",
      "metadata": {
        "colab": {
          "base_uri": "https://localhost:8080/"
        },
        "id": "k5m3Fxa4WBNY",
        "outputId": "fdc59062-1664-48f1-9ee5-4675e966d6ad"
      },
      "source": [
        "x = 5 \n",
        "y = 3\n",
        "\n",
        "x>y and x<y"
      ],
      "execution_count": 19,
      "outputs": [
        {
          "output_type": "execute_result",
          "data": {
            "text/plain": [
              "False"
            ]
          },
          "metadata": {},
          "execution_count": 19
        }
      ]
    },
    {
      "cell_type": "code",
      "metadata": {
        "colab": {
          "base_uri": "https://localhost:8080/"
        },
        "id": "cQ1dwqdnTZ88",
        "outputId": "eb040e14-6fea-48c0-f9e5-6616c5a47f0b"
      },
      "source": [
        "x = 5 \n",
        "y = 3\n",
        "sum = x+y\n",
        "sum"
      ],
      "execution_count": 9,
      "outputs": [
        {
          "output_type": "execute_result",
          "data": {
            "text/plain": [
              "8"
            ]
          },
          "metadata": {},
          "execution_count": 9
        }
      ]
    },
    {
      "cell_type": "code",
      "metadata": {
        "colab": {
          "base_uri": "https://localhost:8080/"
        },
        "id": "lsX7QGRyUM8F",
        "outputId": "ec2d9d7d-ecf2-4914-e489-ff6ae44443c6"
      },
      "source": [
        "a, b, c = 0, -1, 5\n",
        "c%=2\n",
        "c"
      ],
      "execution_count": 18,
      "outputs": [
        {
          "output_type": "execute_result",
          "data": {
            "text/plain": [
              "1"
            ]
          },
          "metadata": {},
          "execution_count": 18
        }
      ]
    },
    {
      "cell_type": "code",
      "metadata": {
        "colab": {
          "base_uri": "https://localhost:8080/"
        },
        "id": "Ke_e_gaJWP_u",
        "outputId": "6d442528-43f1-4226-edb0-fd07d9e27921"
      },
      "source": [
        "x = 5 \n",
        "y = 3\n",
        "x is y"
      ],
      "execution_count": 22,
      "outputs": [
        {
          "output_type": "execute_result",
          "data": {
            "text/plain": [
              "False"
            ]
          },
          "metadata": {},
          "execution_count": 22
        }
      ]
    }
  ]
}